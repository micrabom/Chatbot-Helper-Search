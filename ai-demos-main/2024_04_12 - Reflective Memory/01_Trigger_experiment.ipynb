{
 "cells": [
  {
   "cell_type": "markdown",
   "metadata": {},
   "source": [
    "# Extracting Long-Term Memory from a Conversation with a Reflective Agent\n",
    "This Notebook shows how to set up an agent that can extract memories from a conversation, and review its own work to improve the output."
   ]
  },
  {
   "cell_type": "markdown",
   "metadata": {},
   "source": [
    "### Notebook Setup"
   ]
  },
  {
   "cell_type": "code",
   "execution_count": 1,
   "metadata": {},
   "outputs": [],
   "source": [
    "# %pip install openai==1.16.2 langchain==0.1.14 langchain_openai==0.1.1 langchain-anthropic==0.1.6 pydantic"
   ]
  },
  {
   "cell_type": "code",
   "execution_count": 2,
   "metadata": {},
   "outputs": [],
   "source": [
    "from dotenv import load_dotenv\n",
    "import os\n",
    "\n",
    "# Load .env file\n",
    "load_dotenv()\n",
    "\n",
    "# Set model variables\n",
    "OPENAI_BASE_URL = \"https://api.openai.com/v1\"\n",
    "OPENAI_API_KEY = os.getenv(\"OPENAI_API_KEY\")\n",
    "OPENAI_ORGANIZATION = os.getenv(\"OPENAI_ORGANIZATION\")\n",
    "ANTHROPIC_API_KEY = os.getenv(\"ANTHROPIC_API_KEY\")\n",
    "\n",
    "# Initialize LangSmith\n",
    "os.environ[\"LANGCHAIN_TRACING_V2\"] = \"true\"\n",
    "os.environ[\"LANGCHAIN_ENDPOINT\"] = \"https://api.smith.langchain.com\"\n",
    "os.environ[\"LANGCHAIN_API_KEY\"] = os.getenv(\"LANGCHAIN_API_KEY\")\n",
    "os.environ[\"LANGCHAIN_PROJECT\"] = \"Prototypes\""
   ]
  },
  {
   "cell_type": "markdown",
   "metadata": {},
   "source": [
    "### Setup for Run"
   ]
  },
  {
   "cell_type": "code",
   "execution_count": 3,
   "metadata": {},
   "outputs": [],
   "source": [
    "MESSAGE = \"There are 6 people in my family. My son likes cabbage and my youngest daughter is severely allergic to shellfish.\"\n",
    "\n",
    "EXISTING_MEMORIES = \"There are 4 people in my family.\""
   ]
  },
  {
   "cell_type": "markdown",
   "metadata": {},
   "source": [
    "### Test the Memory Graph"
   ]
  },
  {
   "cell_type": "code",
   "execution_count": null,
   "metadata": {},
   "outputs": [],
   "source": [
    "from graphs import memory_reflection_graph\n",
    "import importlib\n",
    "\n",
    "importlib.invalidate_caches()\n",
    "importlib.reload(memory_reflection_graph)\n",
    "\n",
    "from graphs.memory_reflection_graph import memory_reflection_graph as app\n",
    "from langchain_core.messages import HumanMessage\n",
    "\n",
    "input = {\n",
    "    \"original_conversation\": [HumanMessage(content=MESSAGE)],\n",
    "    \"existing_memories\": EXISTING_MEMORIES,\n",
    "}\n",
    "\n",
    "for output in app.with_config(\n",
    "    {\"run_name\": \"Memory Reflection Flow - Test Agent\", \"recursion_limit\": 40}\n",
    ").stream(input):\n",
    "    for key, value in output.items():\n",
    "        print(f\"Output from node '{key}':\")\n",
    "        print(\"---\")\n",
    "        print(value)\n",
    "    print(\"\\n---\\n\")"
   ]
  },
  {
   "cell_type": "code",
   "execution_count": null,
   "metadata": {},
   "outputs": [],
   "source": [
    "for memory in output[\"__end__\"][\"memories\"]:\n",
    "    print(memory)"
   ]
  }
 ],
 "metadata": {
  "kernelspec": {
   "display_name": "base",
   "language": "python",
   "name": "python3"
  },
  "language_info": {
   "codemirror_mode": {
    "name": "ipython",
    "version": 3
   },
   "file_extension": ".py",
   "mimetype": "text/x-python",
   "name": "python",
   "nbconvert_exporter": "python",
   "pygments_lexer": "ipython3",
   "version": "3.11.5"
  }
 },
 "nbformat": 4,
 "nbformat_minor": 2
}

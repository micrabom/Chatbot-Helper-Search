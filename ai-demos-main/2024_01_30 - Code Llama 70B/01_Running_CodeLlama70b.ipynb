{
 "cells": [
  {
   "cell_type": "code",
   "execution_count": 1,
   "metadata": {},
   "outputs": [],
   "source": [
    "# %pip install --upgrade langchain langsmith langchain_openai"
   ]
  },
  {
   "cell_type": "code",
   "execution_count": 2,
   "metadata": {},
   "outputs": [],
   "source": [
    "from dotenv import load_dotenv\n",
    "import os\n",
    "\n",
    "# Load .env file\n",
    "load_dotenv()\n",
    "\n",
    "# Get OpenAI keys from .env file\n",
    "os.environ[\"OPENAI_API_KEY\"] = os.getenv(\"OPENAI_API_KEY\")\n",
    "os.environ[\"OPENAI_ORGANIZATION\"] = os.getenv(\"OPENAI_ORGANIZATION\")\n",
    "\n",
    "# Get Anyscale and Together keys from .env file\n",
    "os.environ[\"TOGETHER_API_KEY\"] = os.getenv(\"TOGETHER_API_KEY\")\n",
    "os.environ[\"ANYSCALE_API_KEY\"] = os.getenv(\"ANYSCALE_API_KEY\")\n",
    "\n",
    "# Initialize LangSmith\n",
    "os.environ[\"LANGCHAIN_TRACING_V2\"] = \"true\"\n",
    "os.environ[\"LANGCHAIN_ENDPOINT\"] = \"https://api.smith.langchain.com\"\n",
    "os.environ[\"LANGCHAIN_API_KEY\"] = os.getenv(\"LANGCHAIN_API_KEY\")\n",
    "os.environ[\"LANGCHAIN_PROJECT\"] = \"CodeLlama Demo\""
   ]
  },
  {
   "cell_type": "markdown",
   "metadata": {},
   "source": [
    "### Set up our chain"
   ]
  },
  {
   "cell_type": "code",
   "execution_count": 3,
   "metadata": {},
   "outputs": [],
   "source": [
    "from langchain.prompts import ChatPromptTemplate\n",
    "from langchain.prompts.chat import (\n",
    "    SystemMessagePromptTemplate,\n",
    "    HumanMessagePromptTemplate,\n",
    ")\n",
    "from langchain.schema.output_parser import StrOutputParser\n",
    "\n",
    "# Set up the system template\n",
    "system_template = \"\"\"\n",
    "You are an expert programmer that helps to write Python code based on the user request, with concise explanations. Don't be too verbose.\n",
    "\"\"\"\n",
    "system_message_prompt = SystemMessagePromptTemplate.from_template(system_template)\n",
    "\n",
    "# Set up the human template with a variable for the request\n",
    "human_template = \"\"\"\n",
    "{request}\n",
    "\"\"\"\n",
    "human_message_prompt = HumanMessagePromptTemplate.from_template(human_template)\n",
    "\n",
    "prompt = ChatPromptTemplate.from_messages([system_message_prompt, human_message_prompt])\n",
    "\n",
    "output_parser = StrOutputParser()"
   ]
  },
  {
   "cell_type": "code",
   "execution_count": 4,
   "metadata": {},
   "outputs": [],
   "source": [
    "# Set up several different models using the same ChatOpenAI\n",
    "from langchain_openai import ChatOpenAI\n",
    "\n",
    "# Use OpenAI directly\n",
    "MODEL_OPENAI = ChatOpenAI(model=\"gpt-3.5-turbo-1106\", temperature=0)\n",
    "\n",
    "# Use CodeLlama with Together\n",
    "MODEL_CODELLAMA_TOGETHER = ChatOpenAI(\n",
    "    openai_api_base=\"https://api.together.xyz\",\n",
    "    api_key=os.getenv(\"TOGETHER_API_KEY\"),\n",
    "    model=\"codellama/CodeLlama-70b-Instruct-hf\",\n",
    "    temperature=0,\n",
    ")\n",
    "\n",
    "# Use CodeLlama with Anyscale\n",
    "MODEL_CODELLAMA_ANYSCALE = ChatOpenAI(\n",
    "    openai_api_base=\"https://api.endpoints.anyscale.com/v1\",\n",
    "    api_key=os.getenv(\"ANYSCALE_API_KEY\"),\n",
    "    model=\"codellama/CodeLlama-70b-Instruct-hf\",\n",
    "    temperature=0,\n",
    ")"
   ]
  },
  {
   "cell_type": "code",
   "execution_count": 9,
   "metadata": {},
   "outputs": [],
   "source": [
    "# Create a runnable with our chosen model\n",
    "# model = MODEL_OPENAI\n",
    "# model = MODEL_CODELLAMA_TOGETHER\n",
    "model = MODEL_CODELLAMA_ANYSCALE\n",
    "\n",
    "code_writing_runnable = prompt | model | output_parser"
   ]
  },
  {
   "cell_type": "markdown",
   "metadata": {},
   "source": [
    "### Invoke our chain with a request"
   ]
  },
  {
   "cell_type": "code",
   "execution_count": 10,
   "metadata": {},
   "outputs": [
    {
     "data": {
      "text/plain": [
       "'\\n\\nHere is a simple function that takes a list of strings as input and returns a list of the lengths of those strings:\\n\\n```\\ndef get_lengths(strings):\\n    lengths = []\\n    for string in strings:\\n        lengths.append(len(string))\\n    return lengths\\n\\n# Example usage:\\ninput_list = [\"hello\", \"world\"]\\noutput_list = get_lengths(input_list)\\nprint(output_list)  # Output: [5, 5]\\n```\\n\\nIn this function, we iterate over each string in the input list, calculate its length using the `len()` function, and append the length to a new list. Finally, we return the list of lengths.'"
      ]
     },
     "execution_count": 10,
     "metadata": {},
     "output_type": "execute_result"
    }
   ],
   "source": [
    "feature_request = \"\"\"\n",
    "Create a function that takes a list of strings as input and returns a list of the lengths of those strings. For example, if the input is [\"hello\", \"world\"], the function should return [5, 5].\n",
    "\"\"\"\n",
    "\n",
    "code_writing_runnable.invoke({\"request\": feature_request})"
   ]
  }
 ],
 "metadata": {
  "kernelspec": {
   "display_name": "base",
   "language": "python",
   "name": "python3"
  },
  "language_info": {
   "codemirror_mode": {
    "name": "ipython",
    "version": 3
   },
   "file_extension": ".py",
   "mimetype": "text/x-python",
   "name": "python",
   "nbconvert_exporter": "python",
   "pygments_lexer": "ipython3",
   "version": "3.11.5"
  }
 },
 "nbformat": 4,
 "nbformat_minor": 2
}

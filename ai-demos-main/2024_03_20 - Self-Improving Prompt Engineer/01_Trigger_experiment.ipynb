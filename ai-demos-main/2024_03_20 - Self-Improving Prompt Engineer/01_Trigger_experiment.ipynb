{
 "cells": [
  {
   "cell_type": "markdown",
   "metadata": {},
   "source": [
    "### Notebook setup"
   ]
  },
  {
   "cell_type": "code",
   "execution_count": 2,
   "metadata": {},
   "outputs": [],
   "source": [
    "# %pip install openai==1.12.0 langchain==0.1.12 langchain_openai==0.0.5 arize-phoenix langchain-anthropic==0.1.4"
   ]
  },
  {
   "cell_type": "code",
   "execution_count": 3,
   "metadata": {},
   "outputs": [],
   "source": [
    "from dotenv import load_dotenv\n",
    "import os\n",
    "\n",
    "# Load .env file\n",
    "load_dotenv('../.env')\n",
    "\n",
    "# Set model variables\n",
    "OPENAI_BASE_URL = \"https://api.openai.com/v1\"\n",
    "OPENAI_API_KEY = os.getenv(\"OPENAI_API_KEY\")\n",
    "OPENAI_ORGANIZATION = os.getenv(\"OPENAI_ORGANIZATION\")\n",
    "\n",
    "# ANTHROPIC_API_KEY = os.getenv(\"ANTHROPIC_API_KEY\")\n",
    "\n",
    "# TOGETHER_BASE_URL = \"https://api.together.xyz\"\n",
    "# TOGETHER_API_KEY = os.getenv(\"TOGETHER_API_KEY\")\n",
    "\n",
    "os.environ[\"LANGCHAIN_TRACING_V2\"] = \"true\"\n",
    "os.environ[\"LANGCHAIN_ENDPOINT\"] = \"https://api.smith.langchain.com\"\n",
    "os.environ[\"LANGCHAIN_API_KEY\"] = os.getenv(\"LANGCHAIN_API_KEY\")\n",
    "os.environ[\"LANGCHAIN_PROJECT\"] = \"Demos\""
   ]
  },
  {
   "cell_type": "markdown",
   "metadata": {},
   "source": [
    "### Define the initial prompt values to iterate on"
   ]
  },
  {
   "cell_type": "code",
   "execution_count": 4,
   "metadata": {},
   "outputs": [],
   "source": [
    "# The original system prompt (this is for review, it is not used anywhere in the code)\n",
    "\n",
    "ORIGINAL_SYSTEM_PROMPT = \"\"\"\n",
    "You are a supervisor managing a team of knowledge eperts.\n",
    "\n",
    "Your team's job is to create a perfect knowledge base about a family's dining habits to assist in highly customized meal planning.\n",
    "\n",
    "The knowledge base should ultimately consist of many discrete pieces of information that add up to a rich persona (e.g. I like pasta; I am allergic to shellfish; I don't eat mussels; I live in Austin, Texas; I have a husband and 2 children aged 5 and 7).\n",
    "\n",
    "Every time you receive a message, you will evaluate if it has any information worth recording in the knowledge base.\n",
    "\n",
    "A message may contain multiple pieces of information that should be saved separately.\n",
    "\n",
    "You are only interested in the following categories of information:\n",
    "\n",
    "1. The family's food allergies (e.g. a dairy or soy allergy) - These are important to know because they can be life-threatening. Only log something as an allergy if you are certain it is an allergy and not just a dislike.\n",
    "2. Foods the family likes (e.g. likes pasta) - These are important to know because they can help you plan meals, but are not life-threatening.\n",
    "3. Foods the family dislikes (e.g. doesn't eat mussels or rarely eats beef) - These are important to know because they can help you plan meals, but are not life-threatening.\n",
    "4. Attributes about the family that may impact weekly meal planning (e.g. lives in Austin; has a husband and 2 children; has a garden; likes big lunches, etc.)\n",
    "\n",
    "When you receive a message, you perform a sequence of steps consisting of:\n",
    "\n",
    "1. Analyze the most recent Human message for information. You will see multiple messages for context, but we are only looking for new information in the most recent message.\n",
    "2. Compare this to the knowledge you already have.\n",
    "3. Determine if this is new knowledge, an update to old knowledge that now needs to change, or should result in deleting information that is not correct. It's possible that a food you previously wrote as a dislike might now be a like, or that a family member who previously liked a food now dislikes it - those examples would require an update.\n",
    "\n",
    "Here are the existing bits of information that we have about the family.\n",
    "\n",
    "```\n",
    "{memories}\n",
    "```\n",
    "\n",
    "Call the right tools to save the information, then respond with DONE. If you identiy multiple pieces of information, call everything at once. You only have one chance to call tools.\n",
    "\n",
    "I will tip you $20 if you are perfect, and I will fine you $40 if you miss any important information or change any incorrect information.\n",
    "\n",
    "Take a deep breath, think step by step, and then analyze the following message:\n",
    "\"\"\""
   ]
  },
  {
   "cell_type": "code",
   "execution_count": 5,
   "metadata": {},
   "outputs": [],
   "source": [
    "OPENER = \"\"\"\n",
    "You are a supervisor managing a team of knowledge eperts.\n",
    "\n",
    "Your team's job is to create a perfect knowledge base about a family's dining habits to assist in highly customized meal planning.\n",
    "\"\"\"\n",
    "\n",
    "INSTRUCTIONS = \"\"\"\n",
    "The knowledge base should ultimately consist of many discrete pieces of information that add up to a rich persona (e.g. I like pasta; I am allergic to shellfish; I don't eat mussels; I live in Austin, Texas; I have a husband and 2 children aged 5 and 7).\n",
    "\n",
    "Every time you receive a message, you will evaluate if it has any information worth recording in the knowledge base.\n",
    "\n",
    "A message may contain multiple pieces of information. When that occurs, identify and save all the information as separate pieces of knowledge.\n",
    "\n",
    "You are only interested in the following categories of information:\n",
    "\n",
    "1. The family's food allergies (for example: a dairy or soy allergy) - These are important to know because they can be life-threatening. Only log something as an allergy if you are CERTAIN it is an allergy and not just a dislike.\n",
    "2. Foods the family likes (for example: likes pasta) - These are important to know because they can help you plan meals, but are not life-threatening allergies.\n",
    "3. Foods the family dislikes (for example: doesn't eat mussels or rarely eats beef) - These are important to know because they can help you plan meals, but are not life-threatening.\n",
    "4. Attributes about the family that may impact weekly meal planning (for example: lives in Austin, has a husband and 2 children, has a garden, likes big lunches, etc.)\n",
    "\"\"\"\n",
    "\n",
    "CHAIN_OF_THOUGHT = \"\"\"\n",
    "When you receive a message, you perform a sequence of steps consisting of:\n",
    "\n",
    "1. Analyze the most recent Human message for information. You will see multiple messages for context, but we are only looking for new information in the most recent message.\n",
    "2. Compare this to the knowledge you already have.\n",
    "3. Determine if this is new knowledge, an update to old knowledge that now needs to change, or should result in deleting information that is not correct. It's possible that a food you previously wrote as a dislike might now be a like, or that a family member who previously liked a food now dislikes it - those examples would require an update.\n",
    "\"\"\"\n",
    "\n",
    "CLOSER = \"\"\"\n",
    "I will tip you $20 if you are perfect, and I will fine you $40 if you miss any important information or change any incorrect information.\n",
    "\"\"\""
   ]
  },
  {
   "cell_type": "markdown",
   "metadata": {},
   "source": [
    "### Test the prompt writer"
   ]
  },
  {
   "cell_type": "code",
   "execution_count": 6,
   "metadata": {},
   "outputs": [
    {
     "data": {
      "text/plain": [
       "{'input': \"I'm a pescatarian, so I don't eat meat but I do eat seafood.\",\n",
       " 'memories': ['I am not a pescatarian'],\n",
       " 'desired_response': [{'knowledge': 'I am a pescatarian',\n",
       "   'category': 'Attribute',\n",
       "   'action': 'Update'}],\n",
       " 'bad_response': [{'knowledge': 'I am a pescatarian',\n",
       "   'category': 'Attribute',\n",
       "   'action': 'Delete'}]}"
      ]
     },
     "execution_count": 6,
     "metadata": {},
     "output_type": "execute_result"
    }
   ],
   "source": [
    "# Eval Format (This is just for the demo, it is not used anywhere in the code)\n",
    "{\n",
    "    \"input\": \"I'm a pescatarian, so I don't eat meat but I do eat seafood.\",\n",
    "    \"memories\": [\"I am not a pescatarian\"],\n",
    "    \"desired_response\": [\n",
    "        {\"knowledge\": \"I am a pescatarian\", \"category\": \"Attribute\", \"action\": \"Update\"}\n",
    "    ],\n",
    "    \"bad_response\": [\n",
    "        {\"knowledge\": \"I am a pescatarian\", \"category\": \"Attribute\", \"action\": \"Delete\"}\n",
    "    ],\n",
    "}"
   ]
  },
  {
   "cell_type": "code",
   "execution_count": 7,
   "metadata": {},
   "outputs": [
    {
     "name": "stdout",
     "output_type": "stream",
     "text": [
      "Output from node 'prompt_controller':\n",
      "---\n",
      "{'messages': [AIMessage(content='', additional_kwargs={'tool_calls': [{'index': 0, 'id': 'call_s0EAgDpE0JE09wd9FCmfl27h', 'function': {'arguments': '{}', 'name': 'Prompt_Writer'}, 'type': 'function'}]}, response_metadata={'finish_reason': 'tool_calls'})]}\n",
      "\n",
      "---\n",
      "\n",
      "Output from node 'action':\n",
      "---\n",
      "{'messages': [AIMessage(content='', additional_kwargs={'tool_calls': [{'index': 0, 'id': 'call_s0EAgDpE0JE09wd9FCmfl27h', 'function': {'arguments': '{}', 'name': 'Prompt_Writer'}, 'type': 'function'}]}, response_metadata={'finish_reason': 'tool_calls'}), ToolMessage(content='New prompt written.', name='Prompt_Writer', tool_call_id='call_s0EAgDpE0JE09wd9FCmfl27h')], 'prompt_change_log': [{'what_changed': 'instructions', 'previous_value': \"\\nThe knowledge base should ultimately consist of many discrete pieces of information that add up to a rich persona (e.g. I like pasta; I am allergic to shellfish; I don't eat mussels; I live in Austin, Texas; I have a husband and 2 children aged 5 and 7).\\n\\nEvery time you receive a message, you will evaluate if it has any information worth recording in the knowledge base.\\n\\nA message may contain multiple pieces of information. When that occurs, identify and save all the information as separate pieces of knowledge.\\n\\nYou are only interested in the following categories of information:\\n\\n1. The family's food allergies (for example: a dairy or soy allergy) - These are important to know because they can be life-threatening. Only log something as an allergy if you are CERTAIN it is an allergy and not just a dislike.\\n2. Foods the family likes (for example: likes pasta) - These are important to know because they can help you plan meals, but are not life-threatening allergies.\\n3. Foods the family dislikes (for example: doesn't eat mussels or rarely eats beef) - These are important to know because they can help you plan meals, but are not life-threatening.\\n4. Attributes about the family that may impact weekly meal planning (for example: lives in Austin, has a husband and 2 children, has a garden, likes big lunches, etc.)\\n\", 'new_value': \"The knowledge base should ultimately consist of many discrete pieces of information that add up to a rich persona (e.g. I like pasta; I am allergic to shellfish; I don't eat mussels; I live in Austin, Texas; I have a husband and 2 children aged 5 and 7). Every time you receive a message, you will evaluate if it has any information worth recording in the knowledge base. A message may contain multiple pieces of information. When that occurs, identify and save all the information as separate pieces of knowledge. You are only interested in the following categories of information: 1. The family's food allergies (for example: a dairy or soy allergy) - These are important to know because they can be life-threatening. Only log something as an allergy if you are CERTAIN it is an allergy and not just a dislike. 2. Foods the family likes (for example: likes pasta) - These are important to know because they can help you plan meals, but are not life-threatening allergies. 3. Foods the family dislikes (for example: doesn't eat mussels or rarely eats beef) - These are important to know because they can help you plan meals, but are not life-threatening. 4. Attributes about the family that may impact weekly meal planning (for example: lives in Austin, has a husband and 2 children, has a garden, likes big lunches, etc.)\", 'results': '', 'decision': 'Discarded change', 'accuracy': 0.0}]}\n",
      "\n",
      "---\n",
      "\n",
      "----------------\n",
      "----------------\n",
      "Testing the prompt with the following revision:\n",
      "Section changed: instructions\n",
      "New value:\n",
      "The knowledge base should ultimately consist of many discrete pieces of information that add up to a rich persona (e.g. I like pasta; I am allergic to shellfish; I don't eat mussels; I live in Austin, Texas; I have a husband and 2 children aged 5 and 7). Every time you receive a message, you will evaluate if it has any information worth recording in the knowledge base. A message may contain multiple pieces of information. When that occurs, identify and save all the information as separate pieces of knowledge. You are only interested in the following categories of information: 1. The family's food allergies (for example: a dairy or soy allergy) - These are important to know because they can be life-threatening. Only log something as an allergy if you are CERTAIN it is an allergy and not just a dislike. 2. Foods the family likes (for example: likes pasta) - These are important to know because they can help you plan meals, but are not life-threatening allergies. 3. Foods the family dislikes (for example: doesn't eat mussels or rarely eats beef) - These are important to know because they can help you plan meals, but are not life-threatening. 4. Attributes about the family that may impact weekly meal planning (for example: lives in Austin, has a husband and 2 children, has a garden, likes big lunches, etc.)\n",
      "----------------\n",
      "\n",
      "\n",
      "Running line 1\n",
      "---------------\n",
      "Expected Positive Output Result:  False Failed at Knowledge: the agent incorrectly identified 'I am not a pescatarian' instead of 'I am a pescatarian'\n",
      "Expected Negative Output Result:  DIFFERENT\n",
      "\n",
      "\n",
      "Running line 2\n",
      "---------------\n",
      "Expected Positive Output Result:  False Failed at Category: incorrectly categorized 'spicy food' as a Like instead of a Dislike\n",
      "Expected Negative Output Result:  DIFFERENT\n",
      "\n",
      "\n",
      "Running line 3\n",
      "---------------\n",
      "Expected Positive Output Result:  False Failed at Knowledge: did not correctly identify 'Family likes trying new exotic fruits every week' as the new knowledge\n",
      "Expected Negative Output Result:  DIFFERENT. \n",
      "\n",
      "1. The agent did not correctly identify the new knowledge. The actual response only mentions \"exotic fruits\" while the expected response provides more context about the family liking to try new exotic fruits every week.\n",
      "2. The agent correctly categorized the new knowledge as a \"Like\".\n",
      "3. The agent incorrectly determined the action needed. The actual response suggests creating the knowledge, while the expected response indicates that the existing knowledge should be deleted.\n",
      "Encountered 3 bad responses. Ending process.\n",
      "\n",
      "\n",
      "Eval Results:\n",
      "Confusion Matrix:\n",
      "{'TP': 0, 'FP': 1, 'TN': 2, 'FN': 3}\n",
      "\n",
      "\n",
      "Accuracy:  0.3333333333333333\n",
      "Test complete. Accuracy: 0.3333333333333333\n",
      "{'TP': 0, 'FP': 1, 'TN': 2, 'FN': 3}\n",
      "Accepted change, here is the new prompt:\n",
      "{'opener': \"\\nYou are a supervisor managing a team of knowledge eperts.\\n\\nYour team's job is to create a perfect knowledge base about a family's dining habits to assist in highly customized meal planning.\\n\", 'instructions': \"The knowledge base should ultimately consist of many discrete pieces of information that add up to a rich persona (e.g. I like pasta; I am allergic to shellfish; I don't eat mussels; I live in Austin, Texas; I have a husband and 2 children aged 5 and 7). Every time you receive a message, you will evaluate if it has any information worth recording in the knowledge base. A message may contain multiple pieces of information. When that occurs, identify and save all the information as separate pieces of knowledge. You are only interested in the following categories of information: 1. The family's food allergies (for example: a dairy or soy allergy) - These are important to know because they can be life-threatening. Only log something as an allergy if you are CERTAIN it is an allergy and not just a dislike. 2. Foods the family likes (for example: likes pasta) - These are important to know because they can help you plan meals, but are not life-threatening allergies. 3. Foods the family dislikes (for example: doesn't eat mussels or rarely eats beef) - These are important to know because they can help you plan meals, but are not life-threatening. 4. Attributes about the family that may impact weekly meal planning (for example: lives in Austin, has a husband and 2 children, has a garden, likes big lunches, etc.)\", 'chain_of_thought': \"\\nWhen you receive a message, you perform a sequence of steps consisting of:\\n\\n1. Analyze the most recent Human message for information. You will see multiple messages for context, but we are only looking for new information in the most recent message.\\n2. Compare this to the knowledge you already have.\\n3. Determine if this is new knowledge, an update to old knowledge that now needs to change, or should result in deleting information that is not correct. It's possible that a food you previously wrote as a dislike might now be a like, or that a family member who previously liked a food now dislikes it - those examples would require an update.\\n\", 'closer': '\\nI will tip you $20 if you are perfect, and I will fine you $40 if you miss any important information or change any incorrect information.\\n'}\n",
      "\n",
      "\n"
     ]
    },
    {
     "ename": "KeyboardInterrupt",
     "evalue": "",
     "output_type": "error",
     "traceback": [
      "\u001b[0;31m---------------------------------------------------------------------------\u001b[0m",
      "\u001b[0;31mKeyboardInterrupt\u001b[0m                         Traceback (most recent call last)",
      "Cell \u001b[0;32mIn[7], line 18\u001b[0m\n\u001b[1;32m      6\u001b[0m \u001b[38;5;28;01mfrom\u001b[39;00m \u001b[38;5;21;01mgraphs\u001b[39;00m\u001b[38;5;21;01m.\u001b[39;00m\u001b[38;5;21;01mprompt_writer_graph\u001b[39;00m \u001b[38;5;28;01mimport\u001b[39;00m app\n\u001b[1;32m      8\u001b[0m \u001b[38;5;28minput\u001b[39m \u001b[38;5;241m=\u001b[39m {\n\u001b[1;32m      9\u001b[0m     \u001b[38;5;124m\"\u001b[39m\u001b[38;5;124mprompt\u001b[39m\u001b[38;5;124m\"\u001b[39m: {\n\u001b[1;32m     10\u001b[0m         \u001b[38;5;124m\"\u001b[39m\u001b[38;5;124mopener\u001b[39m\u001b[38;5;124m\"\u001b[39m: OPENER,\n\u001b[0;32m   (...)\u001b[0m\n\u001b[1;32m     15\u001b[0m     \u001b[38;5;124m\"\u001b[39m\u001b[38;5;124mmessages\u001b[39m\u001b[38;5;124m\"\u001b[39m: [],\n\u001b[1;32m     16\u001b[0m }\n\u001b[0;32m---> 18\u001b[0m \u001b[38;5;28;01mfor\u001b[39;00m output \u001b[38;5;129;01min\u001b[39;00m app\u001b[38;5;241m.\u001b[39mwith_config(\n\u001b[1;32m     19\u001b[0m     {\u001b[38;5;124m\"\u001b[39m\u001b[38;5;124mrun_name\u001b[39m\u001b[38;5;124m\"\u001b[39m: \u001b[38;5;124m\"\u001b[39m\u001b[38;5;124mPrompt Writer - Test Agent\u001b[39m\u001b[38;5;124m\"\u001b[39m, \u001b[38;5;124m\"\u001b[39m\u001b[38;5;124mrecursion_limit\u001b[39m\u001b[38;5;124m\"\u001b[39m: \u001b[38;5;241m100\u001b[39m}\n\u001b[1;32m     20\u001b[0m )\u001b[38;5;241m.\u001b[39mstream(\u001b[38;5;28minput\u001b[39m):\n\u001b[1;32m     21\u001b[0m     \u001b[38;5;28;01mfor\u001b[39;00m key, value \u001b[38;5;129;01min\u001b[39;00m output\u001b[38;5;241m.\u001b[39mitems():\n\u001b[1;32m     22\u001b[0m         \u001b[38;5;28mprint\u001b[39m(\u001b[38;5;124mf\u001b[39m\u001b[38;5;124m\"\u001b[39m\u001b[38;5;124mOutput from node \u001b[39m\u001b[38;5;124m'\u001b[39m\u001b[38;5;132;01m{\u001b[39;00mkey\u001b[38;5;132;01m}\u001b[39;00m\u001b[38;5;124m'\u001b[39m\u001b[38;5;124m:\u001b[39m\u001b[38;5;124m\"\u001b[39m)\n",
      "File \u001b[0;32m~/anaconda3/lib/python3.11/site-packages/langchain_core/runnables/base.py:4394\u001b[0m, in \u001b[0;36mRunnableBindingBase.stream\u001b[0;34m(self, input, config, **kwargs)\u001b[0m\n\u001b[1;32m   4388\u001b[0m \u001b[38;5;28;01mdef\u001b[39;00m \u001b[38;5;21mstream\u001b[39m(\n\u001b[1;32m   4389\u001b[0m     \u001b[38;5;28mself\u001b[39m,\n\u001b[1;32m   4390\u001b[0m     \u001b[38;5;28minput\u001b[39m: Input,\n\u001b[1;32m   4391\u001b[0m     config: Optional[RunnableConfig] \u001b[38;5;241m=\u001b[39m \u001b[38;5;28;01mNone\u001b[39;00m,\n\u001b[1;32m   4392\u001b[0m     \u001b[38;5;241m*\u001b[39m\u001b[38;5;241m*\u001b[39mkwargs: Optional[Any],\n\u001b[1;32m   4393\u001b[0m ) \u001b[38;5;241m-\u001b[39m\u001b[38;5;241m>\u001b[39m Iterator[Output]:\n\u001b[0;32m-> 4394\u001b[0m     \u001b[38;5;28;01myield from\u001b[39;00m \u001b[38;5;28mself\u001b[39m\u001b[38;5;241m.\u001b[39mbound\u001b[38;5;241m.\u001b[39mstream(\n\u001b[1;32m   4395\u001b[0m         \u001b[38;5;28minput\u001b[39m,\n\u001b[1;32m   4396\u001b[0m         \u001b[38;5;28mself\u001b[39m\u001b[38;5;241m.\u001b[39m_merge_configs(config),\n\u001b[1;32m   4397\u001b[0m         \u001b[38;5;241m*\u001b[39m\u001b[38;5;241m*\u001b[39m{\u001b[38;5;241m*\u001b[39m\u001b[38;5;241m*\u001b[39m\u001b[38;5;28mself\u001b[39m\u001b[38;5;241m.\u001b[39mkwargs, \u001b[38;5;241m*\u001b[39m\u001b[38;5;241m*\u001b[39mkwargs},\n\u001b[1;32m   4398\u001b[0m     )\n",
      "File \u001b[0;32m~/anaconda3/lib/python3.11/site-packages/langgraph/pregel/__init__.py:617\u001b[0m, in \u001b[0;36mPregel.transform\u001b[0;34m(self, input, config, output_keys, input_keys, **kwargs)\u001b[0m\n\u001b[1;32m    608\u001b[0m \u001b[38;5;28;01mdef\u001b[39;00m \u001b[38;5;21mtransform\u001b[39m(\n\u001b[1;32m    609\u001b[0m     \u001b[38;5;28mself\u001b[39m,\n\u001b[1;32m    610\u001b[0m     \u001b[38;5;28minput\u001b[39m: Iterator[Union[\u001b[38;5;28mdict\u001b[39m[\u001b[38;5;28mstr\u001b[39m, Any], Any]],\n\u001b[0;32m   (...)\u001b[0m\n\u001b[1;32m    615\u001b[0m     \u001b[38;5;241m*\u001b[39m\u001b[38;5;241m*\u001b[39mkwargs: Any,\n\u001b[1;32m    616\u001b[0m ) \u001b[38;5;241m-\u001b[39m\u001b[38;5;241m>\u001b[39m Iterator[Union[\u001b[38;5;28mdict\u001b[39m[\u001b[38;5;28mstr\u001b[39m, Any], Any]]:\n\u001b[0;32m--> 617\u001b[0m     \u001b[38;5;28;01mfor\u001b[39;00m chunk \u001b[38;5;129;01min\u001b[39;00m \u001b[38;5;28mself\u001b[39m\u001b[38;5;241m.\u001b[39m_transform_stream_with_config(\n\u001b[1;32m    618\u001b[0m         \u001b[38;5;28minput\u001b[39m,\n\u001b[1;32m    619\u001b[0m         \u001b[38;5;28mself\u001b[39m\u001b[38;5;241m.\u001b[39m_transform,\n\u001b[1;32m    620\u001b[0m         config,\n\u001b[1;32m    621\u001b[0m         output_keys\u001b[38;5;241m=\u001b[39moutput_keys,\n\u001b[1;32m    622\u001b[0m         input_keys\u001b[38;5;241m=\u001b[39minput_keys,\n\u001b[1;32m    623\u001b[0m         \u001b[38;5;241m*\u001b[39m\u001b[38;5;241m*\u001b[39mkwargs,\n\u001b[1;32m    624\u001b[0m     ):\n\u001b[1;32m    625\u001b[0m         \u001b[38;5;28;01myield\u001b[39;00m chunk\n",
      "File \u001b[0;32m~/anaconda3/lib/python3.11/site-packages/langchain_core/runnables/base.py:1656\u001b[0m, in \u001b[0;36mRunnable._transform_stream_with_config\u001b[0;34m(self, input, transformer, config, run_type, **kwargs)\u001b[0m\n\u001b[1;32m   1654\u001b[0m \u001b[38;5;28;01mtry\u001b[39;00m:\n\u001b[1;32m   1655\u001b[0m     \u001b[38;5;28;01mwhile\u001b[39;00m \u001b[38;5;28;01mTrue\u001b[39;00m:\n\u001b[0;32m-> 1656\u001b[0m         chunk: Output \u001b[38;5;241m=\u001b[39m context\u001b[38;5;241m.\u001b[39mrun(\u001b[38;5;28mnext\u001b[39m, iterator)  \u001b[38;5;66;03m# type: ignore\u001b[39;00m\n\u001b[1;32m   1657\u001b[0m         \u001b[38;5;28;01myield\u001b[39;00m chunk\n\u001b[1;32m   1658\u001b[0m         \u001b[38;5;28;01mif\u001b[39;00m final_output_supported:\n",
      "File \u001b[0;32m~/anaconda3/lib/python3.11/site-packages/langgraph/pregel/__init__.py:348\u001b[0m, in \u001b[0;36mPregel._transform\u001b[0;34m(self, input, run_manager, config, input_keys, output_keys, interrupt)\u001b[0m\n\u001b[1;32m    341\u001b[0m futures \u001b[38;5;241m=\u001b[39m [\n\u001b[1;32m    342\u001b[0m     executor\u001b[38;5;241m.\u001b[39msubmit(proc\u001b[38;5;241m.\u001b[39minvoke, \u001b[38;5;28minput\u001b[39m, config)\n\u001b[1;32m    343\u001b[0m     \u001b[38;5;28;01mfor\u001b[39;00m proc, \u001b[38;5;28minput\u001b[39m, config \u001b[38;5;129;01min\u001b[39;00m tasks_w_config\n\u001b[1;32m    344\u001b[0m ]\n\u001b[1;32m    346\u001b[0m \u001b[38;5;66;03m# execute tasks, and wait for one to fail or all to finish.\u001b[39;00m\n\u001b[1;32m    347\u001b[0m \u001b[38;5;66;03m# each task is independent from all other concurrent tasks\u001b[39;00m\n\u001b[0;32m--> 348\u001b[0m done, inflight \u001b[38;5;241m=\u001b[39m concurrent\u001b[38;5;241m.\u001b[39mfutures\u001b[38;5;241m.\u001b[39mwait(\n\u001b[1;32m    349\u001b[0m     futures,\n\u001b[1;32m    350\u001b[0m     return_when\u001b[38;5;241m=\u001b[39mconcurrent\u001b[38;5;241m.\u001b[39mfutures\u001b[38;5;241m.\u001b[39mFIRST_EXCEPTION,\n\u001b[1;32m    351\u001b[0m     timeout\u001b[38;5;241m=\u001b[39m\u001b[38;5;28mself\u001b[39m\u001b[38;5;241m.\u001b[39mstep_timeout,\n\u001b[1;32m    352\u001b[0m )\n\u001b[1;32m    354\u001b[0m \u001b[38;5;66;03m# interrupt on failure or timeout\u001b[39;00m\n\u001b[1;32m    355\u001b[0m _interrupt_or_proceed(done, inflight, step)\n",
      "File \u001b[0;32m~/anaconda3/lib/python3.11/concurrent/futures/_base.py:305\u001b[0m, in \u001b[0;36mwait\u001b[0;34m(fs, timeout, return_when)\u001b[0m\n\u001b[1;32m    301\u001b[0m         \u001b[38;5;28;01mreturn\u001b[39;00m DoneAndNotDoneFutures(done, not_done)\n\u001b[1;32m    303\u001b[0m     waiter \u001b[38;5;241m=\u001b[39m _create_and_install_waiters(fs, return_when)\n\u001b[0;32m--> 305\u001b[0m waiter\u001b[38;5;241m.\u001b[39mevent\u001b[38;5;241m.\u001b[39mwait(timeout)\n\u001b[1;32m    306\u001b[0m \u001b[38;5;28;01mfor\u001b[39;00m f \u001b[38;5;129;01min\u001b[39;00m fs:\n\u001b[1;32m    307\u001b[0m     \u001b[38;5;28;01mwith\u001b[39;00m f\u001b[38;5;241m.\u001b[39m_condition:\n",
      "File \u001b[0;32m~/anaconda3/lib/python3.11/threading.py:622\u001b[0m, in \u001b[0;36mEvent.wait\u001b[0;34m(self, timeout)\u001b[0m\n\u001b[1;32m    620\u001b[0m signaled \u001b[38;5;241m=\u001b[39m \u001b[38;5;28mself\u001b[39m\u001b[38;5;241m.\u001b[39m_flag\n\u001b[1;32m    621\u001b[0m \u001b[38;5;28;01mif\u001b[39;00m \u001b[38;5;129;01mnot\u001b[39;00m signaled:\n\u001b[0;32m--> 622\u001b[0m     signaled \u001b[38;5;241m=\u001b[39m \u001b[38;5;28mself\u001b[39m\u001b[38;5;241m.\u001b[39m_cond\u001b[38;5;241m.\u001b[39mwait(timeout)\n\u001b[1;32m    623\u001b[0m \u001b[38;5;28;01mreturn\u001b[39;00m signaled\n",
      "File \u001b[0;32m~/anaconda3/lib/python3.11/threading.py:320\u001b[0m, in \u001b[0;36mCondition.wait\u001b[0;34m(self, timeout)\u001b[0m\n\u001b[1;32m    318\u001b[0m \u001b[38;5;28;01mtry\u001b[39;00m:    \u001b[38;5;66;03m# restore state no matter what (e.g., KeyboardInterrupt)\u001b[39;00m\n\u001b[1;32m    319\u001b[0m     \u001b[38;5;28;01mif\u001b[39;00m timeout \u001b[38;5;129;01mis\u001b[39;00m \u001b[38;5;28;01mNone\u001b[39;00m:\n\u001b[0;32m--> 320\u001b[0m         waiter\u001b[38;5;241m.\u001b[39macquire()\n\u001b[1;32m    321\u001b[0m         gotit \u001b[38;5;241m=\u001b[39m \u001b[38;5;28;01mTrue\u001b[39;00m\n\u001b[1;32m    322\u001b[0m     \u001b[38;5;28;01melse\u001b[39;00m:\n",
      "\u001b[0;31mKeyboardInterrupt\u001b[0m: "
     ]
    }
   ],
   "source": [
    "from graphs import prompt_writer_graph\n",
    "import importlib\n",
    "\n",
    "importlib.invalidate_caches()\n",
    "importlib.reload(prompt_writer_graph)\n",
    "from graphs.prompt_writer_graph import app\n",
    "\n",
    "input = {\n",
    "    \"prompt\": {\n",
    "        \"opener\": OPENER,\n",
    "        \"instructions\": INSTRUCTIONS,\n",
    "        \"chain_of_thought\": CHAIN_OF_THOUGHT,\n",
    "        \"closer\": CLOSER,\n",
    "    },\n",
    "    \"messages\": [],\n",
    "}\n",
    "\n",
    "for output in app.with_config(\n",
    "    {\"run_name\": \"Prompt Writer - Test Agent\", \"recursion_limit\": 100}\n",
    ").stream(input):\n",
    "    for key, value in output.items():\n",
    "        print(f\"Output from node '{key}':\")\n",
    "        print(\"---\")\n",
    "        print(value)\n",
    "    print(\"\\n---\\n\")"
   ]
  },
  {
   "cell_type": "code",
   "execution_count": null,
   "metadata": {},
   "outputs": [],
   "source": []
  }
 ],
 "metadata": {
  "kernelspec": {
   "display_name": "base",
   "language": "python",
   "name": "python3"
  },
  "language_info": {
   "codemirror_mode": {
    "name": "ipython",
    "version": 3
   },
   "file_extension": ".py",
   "mimetype": "text/x-python",
   "name": "python",
   "nbconvert_exporter": "python",
   "pygments_lexer": "ipython3",
   "version": "3.11.5"
  }
 },
 "nbformat": 4,
 "nbformat_minor": 2
}
